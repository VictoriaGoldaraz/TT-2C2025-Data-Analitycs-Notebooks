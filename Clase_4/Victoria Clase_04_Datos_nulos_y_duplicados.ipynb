{
  "nbformat": 4,
  "nbformat_minor": 0,
  "metadata": {
    "colab": {
      "provenance": [],
      "collapsed_sections": [
        "HUw9s4PNlhQu"
      ]
    },
    "kernelspec": {
      "name": "python3",
      "display_name": "Python 3"
    },
    "language_info": {
      "name": "python"
    }
  },
  "cells": [
    {
      "cell_type": "markdown",
      "source": [
        "# Datos Nulos y Duplicados\n",
        "**Objetivo:**\n",
        "* Familiarizarse con la identificación de valores nulos en un DataFrame.\n",
        "* Reconocer y contar duplicados en un conjunto de datos.\n"
      ],
      "metadata": {
        "id": "Midzhc9WLszm"
      }
    },
    {
      "cell_type": "markdown",
      "source": [
        "# Datos Nulos"
      ],
      "metadata": {
        "id": "aYgJs3sPLn2u"
      }
    },
    {
      "cell_type": "markdown",
      "source": [
        "\n",
        "\n",
        "\n",
        "**Instrucciones:**\n",
        "\n",
        "1. Descargar el siguiente conjunto de datos: [satis_clientes.csv](https://drive.google.com/file/d/169MG1sSG8IqTtLdJwIlnBOhMkF_CN_Tb/view?usp=drive_link).\n",
        "2. Cargar los datos en un DataFrame en Python usando Pandas.\n",
        "Utilizar el método `isnull()` para identificar las filas con datos faltantes y contar el número de valores nulos por columna.\n",
        "3. Usar el método `duplicated()` para identificar las filas duplicadas y contar cuántas filas duplicadas hay en total.\n",
        "4. Crear un informe que incluya:\n",
        "  * La cantidad total de registros en el DataFrame.\n",
        "  * La cantidad total de valores nulos por columna.\n",
        "  * La cantidad de filas duplicadas.\n",
        "  * Un subconjunto de los registros duplicados para que se vea el contenido.  \n",
        "\n"
      ],
      "metadata": {
        "id": "d3pONncOMcCT"
      }
    },
    {
      "cell_type": "markdown",
      "source": [
        "## Ver en documentación oficial\n",
        "\n",
        "[Pandas Working with missing data](https://pandas.pydata.org/docs/user_guide/missing_data.html)\n",
        "[NumPy Data Types](https://numpy.org/doc/2.3/user/basics.types.html)"
      ],
      "metadata": {
        "id": "w6sEYVLfkw49"
      }
    },
    {
      "cell_type": "markdown",
      "source": [
        "**Sobre NULL**\n",
        "\n",
        "* NULL es la representación en bases de datos SQL.\n",
        "* Cuando importás datos a pandas (ej: con pd.read_sql o pd.read_csv), esos NULL se convierten en NaN o NaT dentro de pandas.\n",
        "* En pandas casi siempre vas a ver NaN (nulos numéricos/objetos) o NaT (nulos de tiempo).\n",
        "* No vas a ver NULL directamente, salvo en la base de datos antes de importar."
      ],
      "metadata": {
        "id": "4mH-dVrdmMvd"
      }
    },
    {
      "cell_type": "markdown",
      "source": [
        "## Veamos algunos comandos antes de comenzar\n",
        "De forma similar a numpy, pandas también tiene algunas funciones útiles para identificar y detectar valores nulos."
      ],
      "metadata": {
        "id": "9BcLRj-bPBBl"
      }
    },
    {
      "cell_type": "code",
      "source": [
        "import numpy as np\n",
        "import pandas as pd"
      ],
      "metadata": {
        "id": "hILR-zpVPasg"
      },
      "execution_count": 1,
      "outputs": []
    },
    {
      "cell_type": "markdown",
      "source": [
        "La función pd.isnulll() detecta valores nulos (como NaN, None, etc.) y devuelve True si el valor es nulo, o False si no lo es."
      ],
      "metadata": {
        "id": "uD070jn8P4m8"
      }
    },
    {
      "cell_type": "code",
      "source": [
        "pd.isnull(np.nan)"
      ],
      "metadata": {
        "id": "2qWT_RRRPEkW",
        "outputId": "e393658f-f769-48e4-92ed-1ffd1bf8068e",
        "colab": {
          "base_uri": "https://localhost:8080/"
        }
      },
      "execution_count": 2,
      "outputs": [
        {
          "output_type": "execute_result",
          "data": {
            "text/plain": [
              "True"
            ]
          },
          "metadata": {},
          "execution_count": 2
        }
      ]
    },
    {
      "cell_type": "code",
      "source": [
        "pd.isnull(None)"
      ],
      "metadata": {
        "id": "RCNlLEtGPPnu",
        "outputId": "6bb54bd4-a6d5-460c-c6b9-0dc850791dd1",
        "colab": {
          "base_uri": "https://localhost:8080/"
        }
      },
      "execution_count": 3,
      "outputs": [
        {
          "output_type": "execute_result",
          "data": {
            "text/plain": [
              "True"
            ]
          },
          "metadata": {},
          "execution_count": 3
        }
      ]
    },
    {
      "cell_type": "markdown",
      "source": [
        "La función pd.isna() en pandas se utiliza para detectar valores nulos (missing values) en objetos, como NaN, None, etc."
      ],
      "metadata": {
        "id": "fe2N_TIHPmoI"
      }
    },
    {
      "cell_type": "code",
      "source": [
        "pd.isna(np.nan)"
      ],
      "metadata": {
        "id": "Cr2jZGhDPQuC",
        "outputId": "ca54c946-f180-42a9-e273-87b1c14bb988",
        "colab": {
          "base_uri": "https://localhost:8080/"
        }
      },
      "execution_count": 4,
      "outputs": [
        {
          "output_type": "execute_result",
          "data": {
            "text/plain": [
              "True"
            ]
          },
          "metadata": {},
          "execution_count": 4
        }
      ]
    },
    {
      "cell_type": "code",
      "source": [
        "pd.isna(None)"
      ],
      "metadata": {
        "id": "AyBGqmTlPRka",
        "outputId": "28e8313a-e69b-4b59-b09a-f3ee5f17fc7a",
        "colab": {
          "base_uri": "https://localhost:8080/"
        }
      },
      "execution_count": 5,
      "outputs": [
        {
          "output_type": "execute_result",
          "data": {
            "text/plain": [
              "True"
            ]
          },
          "metadata": {},
          "execution_count": 5
        }
      ]
    },
    {
      "cell_type": "markdown",
      "source": [
        "También podemos usarlo con Series"
      ],
      "metadata": {
        "id": "r1gbnAASQOop"
      }
    },
    {
      "cell_type": "code",
      "source": [
        "pd.isnull(pd.Series([1, np.nan, 7]))"
      ],
      "metadata": {
        "id": "jsXsHkpuQNTy",
        "outputId": "dd68c76c-f5dc-4a78-ac2d-499cc63dc7be",
        "colab": {
          "base_uri": "https://localhost:8080/",
          "height": 178
        }
      },
      "execution_count": 6,
      "outputs": [
        {
          "output_type": "execute_result",
          "data": {
            "text/plain": [
              "0    False\n",
              "1     True\n",
              "2    False\n",
              "dtype: bool"
            ],
            "text/html": [
              "<div>\n",
              "<style scoped>\n",
              "    .dataframe tbody tr th:only-of-type {\n",
              "        vertical-align: middle;\n",
              "    }\n",
              "\n",
              "    .dataframe tbody tr th {\n",
              "        vertical-align: top;\n",
              "    }\n",
              "\n",
              "    .dataframe thead th {\n",
              "        text-align: right;\n",
              "    }\n",
              "</style>\n",
              "<table border=\"1\" class=\"dataframe\">\n",
              "  <thead>\n",
              "    <tr style=\"text-align: right;\">\n",
              "      <th></th>\n",
              "      <th>0</th>\n",
              "    </tr>\n",
              "  </thead>\n",
              "  <tbody>\n",
              "    <tr>\n",
              "      <th>0</th>\n",
              "      <td>False</td>\n",
              "    </tr>\n",
              "    <tr>\n",
              "      <th>1</th>\n",
              "      <td>True</td>\n",
              "    </tr>\n",
              "    <tr>\n",
              "      <th>2</th>\n",
              "      <td>False</td>\n",
              "    </tr>\n",
              "  </tbody>\n",
              "</table>\n",
              "</div><br><label><b>dtype:</b> bool</label>"
            ]
          },
          "metadata": {},
          "execution_count": 6
        }
      ]
    },
    {
      "cell_type": "markdown",
      "source": [
        "O incluso con Dataframes"
      ],
      "metadata": {
        "id": "d6nr2WiVQR1I"
      }
    },
    {
      "cell_type": "code",
      "source": [
        "pd.isnull(pd.DataFrame({\n",
        "    'Column A': [1, np.nan, 7],\n",
        "    'Column B': [np.nan, 2, 3],\n",
        "    'Column C': [np.nan, 2, np.nan]\n",
        "}))"
      ],
      "metadata": {
        "id": "2fPOD0hZQTwb",
        "outputId": "271c301d-25b5-4207-9e14-2041ee342ce8",
        "colab": {
          "base_uri": "https://localhost:8080/",
          "height": 143
        }
      },
      "execution_count": 7,
      "outputs": [
        {
          "output_type": "execute_result",
          "data": {
            "text/plain": [
              "   Column A  Column B  Column C\n",
              "0     False      True      True\n",
              "1      True     False     False\n",
              "2     False     False      True"
            ],
            "text/html": [
              "\n",
              "  <div id=\"df-c89b33ea-7a7e-4f7d-b5a6-48f793eeee45\" class=\"colab-df-container\">\n",
              "    <div>\n",
              "<style scoped>\n",
              "    .dataframe tbody tr th:only-of-type {\n",
              "        vertical-align: middle;\n",
              "    }\n",
              "\n",
              "    .dataframe tbody tr th {\n",
              "        vertical-align: top;\n",
              "    }\n",
              "\n",
              "    .dataframe thead th {\n",
              "        text-align: right;\n",
              "    }\n",
              "</style>\n",
              "<table border=\"1\" class=\"dataframe\">\n",
              "  <thead>\n",
              "    <tr style=\"text-align: right;\">\n",
              "      <th></th>\n",
              "      <th>Column A</th>\n",
              "      <th>Column B</th>\n",
              "      <th>Column C</th>\n",
              "    </tr>\n",
              "  </thead>\n",
              "  <tbody>\n",
              "    <tr>\n",
              "      <th>0</th>\n",
              "      <td>False</td>\n",
              "      <td>True</td>\n",
              "      <td>True</td>\n",
              "    </tr>\n",
              "    <tr>\n",
              "      <th>1</th>\n",
              "      <td>True</td>\n",
              "      <td>False</td>\n",
              "      <td>False</td>\n",
              "    </tr>\n",
              "    <tr>\n",
              "      <th>2</th>\n",
              "      <td>False</td>\n",
              "      <td>False</td>\n",
              "      <td>True</td>\n",
              "    </tr>\n",
              "  </tbody>\n",
              "</table>\n",
              "</div>\n",
              "    <div class=\"colab-df-buttons\">\n",
              "\n",
              "  <div class=\"colab-df-container\">\n",
              "    <button class=\"colab-df-convert\" onclick=\"convertToInteractive('df-c89b33ea-7a7e-4f7d-b5a6-48f793eeee45')\"\n",
              "            title=\"Convert this dataframe to an interactive table.\"\n",
              "            style=\"display:none;\">\n",
              "\n",
              "  <svg xmlns=\"http://www.w3.org/2000/svg\" height=\"24px\" viewBox=\"0 -960 960 960\">\n",
              "    <path d=\"M120-120v-720h720v720H120Zm60-500h600v-160H180v160Zm220 220h160v-160H400v160Zm0 220h160v-160H400v160ZM180-400h160v-160H180v160Zm440 0h160v-160H620v160ZM180-180h160v-160H180v160Zm440 0h160v-160H620v160Z\"/>\n",
              "  </svg>\n",
              "    </button>\n",
              "\n",
              "  <style>\n",
              "    .colab-df-container {\n",
              "      display:flex;\n",
              "      gap: 12px;\n",
              "    }\n",
              "\n",
              "    .colab-df-convert {\n",
              "      background-color: #E8F0FE;\n",
              "      border: none;\n",
              "      border-radius: 50%;\n",
              "      cursor: pointer;\n",
              "      display: none;\n",
              "      fill: #1967D2;\n",
              "      height: 32px;\n",
              "      padding: 0 0 0 0;\n",
              "      width: 32px;\n",
              "    }\n",
              "\n",
              "    .colab-df-convert:hover {\n",
              "      background-color: #E2EBFA;\n",
              "      box-shadow: 0px 1px 2px rgba(60, 64, 67, 0.3), 0px 1px 3px 1px rgba(60, 64, 67, 0.15);\n",
              "      fill: #174EA6;\n",
              "    }\n",
              "\n",
              "    .colab-df-buttons div {\n",
              "      margin-bottom: 4px;\n",
              "    }\n",
              "\n",
              "    [theme=dark] .colab-df-convert {\n",
              "      background-color: #3B4455;\n",
              "      fill: #D2E3FC;\n",
              "    }\n",
              "\n",
              "    [theme=dark] .colab-df-convert:hover {\n",
              "      background-color: #434B5C;\n",
              "      box-shadow: 0px 1px 3px 1px rgba(0, 0, 0, 0.15);\n",
              "      filter: drop-shadow(0px 1px 2px rgba(0, 0, 0, 0.3));\n",
              "      fill: #FFFFFF;\n",
              "    }\n",
              "  </style>\n",
              "\n",
              "    <script>\n",
              "      const buttonEl =\n",
              "        document.querySelector('#df-c89b33ea-7a7e-4f7d-b5a6-48f793eeee45 button.colab-df-convert');\n",
              "      buttonEl.style.display =\n",
              "        google.colab.kernel.accessAllowed ? 'block' : 'none';\n",
              "\n",
              "      async function convertToInteractive(key) {\n",
              "        const element = document.querySelector('#df-c89b33ea-7a7e-4f7d-b5a6-48f793eeee45');\n",
              "        const dataTable =\n",
              "          await google.colab.kernel.invokeFunction('convertToInteractive',\n",
              "                                                    [key], {});\n",
              "        if (!dataTable) return;\n",
              "\n",
              "        const docLinkHtml = 'Like what you see? Visit the ' +\n",
              "          '<a target=\"_blank\" href=https://colab.research.google.com/notebooks/data_table.ipynb>data table notebook</a>'\n",
              "          + ' to learn more about interactive tables.';\n",
              "        element.innerHTML = '';\n",
              "        dataTable['output_type'] = 'display_data';\n",
              "        await google.colab.output.renderOutput(dataTable, element);\n",
              "        const docLink = document.createElement('div');\n",
              "        docLink.innerHTML = docLinkHtml;\n",
              "        element.appendChild(docLink);\n",
              "      }\n",
              "    </script>\n",
              "  </div>\n",
              "\n",
              "\n",
              "    <div id=\"df-d424d7af-0548-41ee-9909-1404c42edd86\">\n",
              "      <button class=\"colab-df-quickchart\" onclick=\"quickchart('df-d424d7af-0548-41ee-9909-1404c42edd86')\"\n",
              "                title=\"Suggest charts\"\n",
              "                style=\"display:none;\">\n",
              "\n",
              "<svg xmlns=\"http://www.w3.org/2000/svg\" height=\"24px\"viewBox=\"0 0 24 24\"\n",
              "     width=\"24px\">\n",
              "    <g>\n",
              "        <path d=\"M19 3H5c-1.1 0-2 .9-2 2v14c0 1.1.9 2 2 2h14c1.1 0 2-.9 2-2V5c0-1.1-.9-2-2-2zM9 17H7v-7h2v7zm4 0h-2V7h2v10zm4 0h-2v-4h2v4z\"/>\n",
              "    </g>\n",
              "</svg>\n",
              "      </button>\n",
              "\n",
              "<style>\n",
              "  .colab-df-quickchart {\n",
              "      --bg-color: #E8F0FE;\n",
              "      --fill-color: #1967D2;\n",
              "      --hover-bg-color: #E2EBFA;\n",
              "      --hover-fill-color: #174EA6;\n",
              "      --disabled-fill-color: #AAA;\n",
              "      --disabled-bg-color: #DDD;\n",
              "  }\n",
              "\n",
              "  [theme=dark] .colab-df-quickchart {\n",
              "      --bg-color: #3B4455;\n",
              "      --fill-color: #D2E3FC;\n",
              "      --hover-bg-color: #434B5C;\n",
              "      --hover-fill-color: #FFFFFF;\n",
              "      --disabled-bg-color: #3B4455;\n",
              "      --disabled-fill-color: #666;\n",
              "  }\n",
              "\n",
              "  .colab-df-quickchart {\n",
              "    background-color: var(--bg-color);\n",
              "    border: none;\n",
              "    border-radius: 50%;\n",
              "    cursor: pointer;\n",
              "    display: none;\n",
              "    fill: var(--fill-color);\n",
              "    height: 32px;\n",
              "    padding: 0;\n",
              "    width: 32px;\n",
              "  }\n",
              "\n",
              "  .colab-df-quickchart:hover {\n",
              "    background-color: var(--hover-bg-color);\n",
              "    box-shadow: 0 1px 2px rgba(60, 64, 67, 0.3), 0 1px 3px 1px rgba(60, 64, 67, 0.15);\n",
              "    fill: var(--button-hover-fill-color);\n",
              "  }\n",
              "\n",
              "  .colab-df-quickchart-complete:disabled,\n",
              "  .colab-df-quickchart-complete:disabled:hover {\n",
              "    background-color: var(--disabled-bg-color);\n",
              "    fill: var(--disabled-fill-color);\n",
              "    box-shadow: none;\n",
              "  }\n",
              "\n",
              "  .colab-df-spinner {\n",
              "    border: 2px solid var(--fill-color);\n",
              "    border-color: transparent;\n",
              "    border-bottom-color: var(--fill-color);\n",
              "    animation:\n",
              "      spin 1s steps(1) infinite;\n",
              "  }\n",
              "\n",
              "  @keyframes spin {\n",
              "    0% {\n",
              "      border-color: transparent;\n",
              "      border-bottom-color: var(--fill-color);\n",
              "      border-left-color: var(--fill-color);\n",
              "    }\n",
              "    20% {\n",
              "      border-color: transparent;\n",
              "      border-left-color: var(--fill-color);\n",
              "      border-top-color: var(--fill-color);\n",
              "    }\n",
              "    30% {\n",
              "      border-color: transparent;\n",
              "      border-left-color: var(--fill-color);\n",
              "      border-top-color: var(--fill-color);\n",
              "      border-right-color: var(--fill-color);\n",
              "    }\n",
              "    40% {\n",
              "      border-color: transparent;\n",
              "      border-right-color: var(--fill-color);\n",
              "      border-top-color: var(--fill-color);\n",
              "    }\n",
              "    60% {\n",
              "      border-color: transparent;\n",
              "      border-right-color: var(--fill-color);\n",
              "    }\n",
              "    80% {\n",
              "      border-color: transparent;\n",
              "      border-right-color: var(--fill-color);\n",
              "      border-bottom-color: var(--fill-color);\n",
              "    }\n",
              "    90% {\n",
              "      border-color: transparent;\n",
              "      border-bottom-color: var(--fill-color);\n",
              "    }\n",
              "  }\n",
              "</style>\n",
              "\n",
              "      <script>\n",
              "        async function quickchart(key) {\n",
              "          const quickchartButtonEl =\n",
              "            document.querySelector('#' + key + ' button');\n",
              "          quickchartButtonEl.disabled = true;  // To prevent multiple clicks.\n",
              "          quickchartButtonEl.classList.add('colab-df-spinner');\n",
              "          try {\n",
              "            const charts = await google.colab.kernel.invokeFunction(\n",
              "                'suggestCharts', [key], {});\n",
              "          } catch (error) {\n",
              "            console.error('Error during call to suggestCharts:', error);\n",
              "          }\n",
              "          quickchartButtonEl.classList.remove('colab-df-spinner');\n",
              "          quickchartButtonEl.classList.add('colab-df-quickchart-complete');\n",
              "        }\n",
              "        (() => {\n",
              "          let quickchartButtonEl =\n",
              "            document.querySelector('#df-d424d7af-0548-41ee-9909-1404c42edd86 button');\n",
              "          quickchartButtonEl.style.display =\n",
              "            google.colab.kernel.accessAllowed ? 'block' : 'none';\n",
              "        })();\n",
              "      </script>\n",
              "    </div>\n",
              "\n",
              "    </div>\n",
              "  </div>\n"
            ],
            "application/vnd.google.colaboratory.intrinsic+json": {
              "type": "dataframe",
              "summary": "{\n  \"name\": \"}))\",\n  \"rows\": 3,\n  \"fields\": [\n    {\n      \"column\": \"Column A\",\n      \"properties\": {\n        \"dtype\": \"boolean\",\n        \"num_unique_values\": 2,\n        \"samples\": [\n          true,\n          false\n        ],\n        \"semantic_type\": \"\",\n        \"description\": \"\"\n      }\n    },\n    {\n      \"column\": \"Column B\",\n      \"properties\": {\n        \"dtype\": \"boolean\",\n        \"num_unique_values\": 2,\n        \"samples\": [\n          false,\n          true\n        ],\n        \"semantic_type\": \"\",\n        \"description\": \"\"\n      }\n    },\n    {\n      \"column\": \"Column C\",\n      \"properties\": {\n        \"dtype\": \"boolean\",\n        \"num_unique_values\": 2,\n        \"samples\": [\n          false,\n          true\n        ],\n        \"semantic_type\": \"\",\n        \"description\": \"\"\n      }\n    }\n  ]\n}"
            }
          },
          "metadata": {},
          "execution_count": 7
        }
      ]
    },
    {
      "cell_type": "markdown",
      "source": [
        "## Veamos con un caso mas complejo"
      ],
      "metadata": {
        "id": "vGbFuxupQcv1"
      }
    },
    {
      "cell_type": "code",
      "source": [
        "# Al ejecutar este bloque, Google nos solicitará los permisos\n",
        "from google.colab import drive\n",
        "drive.mount('/content/drive')"
      ],
      "metadata": {
        "id": "GnYwfiMkUwj6"
      },
      "execution_count": null,
      "outputs": []
    },
    {
      "cell_type": "code",
      "source": [
        "#Para facilitar las tareas, podemos cambiar la ruta de trabajo con el método chdir() de la librería os de python.\n",
        "import os\n",
        "os.chdir('/content/drive/MyDrive/datasets')\n",
        "# os.chdir('/content/drive/My Drive/{mi ruta de carpetas}')\n",
        "!ls # muestra el contenido de la carpeta"
      ],
      "metadata": {
        "id": "3a975dhtUr54"
      },
      "execution_count": null,
      "outputs": []
    },
    {
      "cell_type": "code",
      "execution_count": null,
      "metadata": {
        "id": "KGHTTWmaMbWG"
      },
      "outputs": [],
      "source": [
        "import pandas as pd\n",
        "\n",
        "# Cargar datos\n",
        "df = pd.read_csv('satis_clientes.csv')\n",
        "df.head()"
      ]
    },
    {
      "cell_type": "code",
      "source": [
        "df.info()"
      ],
      "metadata": {
        "id": "B9hVzXJgiezI"
      },
      "execution_count": null,
      "outputs": []
    },
    {
      "cell_type": "markdown",
      "source": [
        "Si bien lo vamos a ver más adelante, asi podemos cambiar el tipo de dato de una columna"
      ],
      "metadata": {
        "id": "Z2i5W-3kMVYO"
      }
    },
    {
      "cell_type": "code",
      "source": [
        "df[\"Empresa\"] = df[\"Empresa\"].astype(\"string\")"
      ],
      "metadata": {
        "id": "sBNnQKkwyAB8"
      },
      "execution_count": null,
      "outputs": []
    },
    {
      "cell_type": "code",
      "source": [
        "# Identificar valores nulos\n",
        "valores_nulos = df.isnull().sum()\n",
        "print(f'Valores nulos: \\n{valores_nulos}')"
      ],
      "metadata": {
        "id": "0vZ7pAg225Eg"
      },
      "execution_count": null,
      "outputs": []
    },
    {
      "cell_type": "code",
      "source": [
        "# Asi listamos los valores con alguna celda nula\n",
        "df[df.isnull().any(axis=1)]"
      ],
      "metadata": {
        "id": "kE_XVd-6kFyG"
      },
      "execution_count": null,
      "outputs": []
    },
    {
      "cell_type": "markdown",
      "source": [
        "Incluso podemos representar gráficamente los valos nulos (NaN)"
      ],
      "metadata": {
        "id": "CLrZmD2aMqX5"
      }
    },
    {
      "cell_type": "code",
      "source": [
        "import seaborn as sns\n",
        "import matplotlib.pyplot as plt\n",
        "\n",
        "sns.heatmap(df.isnull())\n",
        "plt.show()"
      ],
      "metadata": {
        "id": "V0DkWBLoliWc"
      },
      "execution_count": null,
      "outputs": []
    },
    {
      "cell_type": "markdown",
      "source": [
        "Vamos a cargar datos de una DB que tiene Nulls"
      ],
      "metadata": {
        "id": "Y7f7mJialhak"
      }
    },
    {
      "cell_type": "code",
      "source": [
        "# Importamos las librerías\n",
        "import sqlite3"
      ],
      "metadata": {
        "id": "9ek0oDOArcpY"
      },
      "execution_count": null,
      "outputs": []
    },
    {
      "cell_type": "code",
      "source": [
        "#Establecemos la conexión a la db\n",
        "conexion = sqlite3.connect('/content/drive/MyDrive/datasets/booking_db_nulls.sqlite')"
      ],
      "metadata": {
        "id": "XuxnfcVVrWcy"
      },
      "execution_count": null,
      "outputs": []
    },
    {
      "cell_type": "code",
      "source": [
        "df = pd.read_sql('''\n",
        "    SELECT\n",
        "        *\n",
        "    FROM reviews\n",
        "    ;\n",
        "''', conexion, index_col='review_id', parse_dates=['review_date'])"
      ],
      "metadata": {
        "id": "ydXj4KHvraTX"
      },
      "execution_count": null,
      "outputs": []
    },
    {
      "cell_type": "code",
      "source": [
        "df.info()"
      ],
      "metadata": {
        "id": "W_0_dHEMrepW"
      },
      "execution_count": null,
      "outputs": []
    },
    {
      "cell_type": "code",
      "source": [
        "df.isnull().sum()"
      ],
      "metadata": {
        "id": "r8rLvWYirlHv"
      },
      "execution_count": null,
      "outputs": []
    },
    {
      "cell_type": "code",
      "source": [
        "df[df.isnull().any(axis=1)]"
      ],
      "metadata": {
        "id": "VeBYWFRcr_i0"
      },
      "execution_count": null,
      "outputs": []
    },
    {
      "cell_type": "markdown",
      "source": [
        "# Datos duplicados"
      ],
      "metadata": {
        "id": "HUw9s4PNlhQu"
      }
    },
    {
      "cell_type": "code",
      "source": [
        "# Cargar datos\n",
        "df = pd.read_csv('satis_clientes.csv')\n",
        "df.head()"
      ],
      "metadata": {
        "id": "Svc72_UNNG2a"
      },
      "execution_count": null,
      "outputs": []
    },
    {
      "cell_type": "code",
      "source": [
        "# Identificar duplicados\n",
        "duplicados = df.duplicated()\n",
        "cantidad_duplicados = duplicados.sum()\n",
        "print(f'Duplicados:\\n{duplicados}')\n",
        "print(f'Cantidad de duplicados: {cantidad_duplicados}')"
      ],
      "metadata": {
        "id": "LlEJRHVQ3CE9"
      },
      "execution_count": null,
      "outputs": []
    },
    {
      "cell_type": "code",
      "source": [
        "# Crear subconjunto de duplicados\n",
        "registros_duplicados = df[duplicados]\n",
        "# Mostrar en consola\n",
        "\n",
        "print(f'\\nCantidad total de registros: {len(df)}')\n",
        "print(f'Cantidad de registros duplicados: {cantidad_duplicados}')\n",
        "print(registros_duplicados.head())"
      ],
      "metadata": {
        "id": "WEpVL75o3Hh-"
      },
      "execution_count": null,
      "outputs": []
    },
    {
      "cell_type": "code",
      "source": [
        "registros_duplicados.dtypes"
      ],
      "metadata": {
        "id": "uh4At1nY4OaI"
      },
      "execution_count": null,
      "outputs": []
    },
    {
      "cell_type": "code",
      "source": [
        "duplicado_10 = df[\"id\"].duplicated()\n",
        "print(duplicado_10)"
      ],
      "metadata": {
        "id": "wWg_yt0e3uEK"
      },
      "execution_count": null,
      "outputs": []
    },
    {
      "cell_type": "markdown",
      "source": [
        "# Actividad 2: Exploración y limpieza preliminar con Python.\n",
        "**Contexto**\n",
        "En esta actividad, trabajarás guiado por Luis, nuestro Analista de BI, con una planilla de Google Sheets que registra la temperatura corporal de un grupo de personas durante 10 días. Debes realizar un examen preliminar para identificar datos problemáticos, como duplicados y valores nulos. Esta práctica te ayudará a dar los pasos previos a la limpieza de datos, un componente vital en cualquier proyecto de análisis.\n",
        "\n",
        "**Objetivos**\n",
        "* Identificar los datos duplicados y nulos en el conjunto.\n",
        "* Analizar el mejor tratamiento para los datos anómalos y nulos.\n",
        "\n",
        "**Ejercicio práctico**\n",
        "1. Crear un dataframe a partir de la planilla de cálculo y efectuar un examen preliminar.\n",
        "2. Identificar los datos:\n",
        "\n",
        "  a. duplicados\n",
        "\n",
        "  b. nulos\n",
        "3. Analizá cuál sería el mejor tratamiento para los datos anómalos (fuera de rango) y nulos en los siguientes contextos **(YA RESUELTO)**:\n",
        "\n",
        "<center><img src=\"https://drive.google.com/uc?id=1CaYiA8Sc5Z1KPEA6NZ2DYWuCzaihZ6BQ\"></center>\n",
        "\n",
        "**Sets de datos**\n",
        "* [Actividad 2](https://docs.google.com/spreadsheets/d/1-rUn4TUwpGrLE1DH8moeiR5eSyeF-jOOTpfhRgZxVIQ/edit?usp=sharing)\n",
        "\n",
        "**¿Por qué importa esto en SynthData?**\n",
        "\n",
        "La exploración y limpieza de datos son pasos esenciales para garantizar que cualquier análisis posterior sea robusto y significativo. En SynthData, nos enfrentamos a datos en diferentes formatos, y es crucial asegurarnos de que estén listos para ser analizados. Esta actividad te enseñará a detectar problemas comunes en conjuntos de datos, como duplicados y valores nulos, y cómo abordarlos adecuadamente.\n",
        "\n"
      ],
      "metadata": {
        "id": "vG62vH5P9JpY"
      }
    },
    {
      "cell_type": "markdown",
      "source": [
        "### 1) Crear el dataframe"
      ],
      "metadata": {
        "id": "86IAa-35_7_k"
      }
    },
    {
      "cell_type": "code",
      "source": [
        "# importar la librería\n",
        "# crear el dataframe\n",
        "# probar que se haya cargado el dataframe\n",
        "import pandas as pd\n",
        "df = pd.read_csv('https://docs.google.com/spreadsheets/d/1-rUn4TUwpGrLE1DH8moeiR5eSyeF-jOOTpfhRgZxVIQ/gviz/tq?tqx=out:csv&sheet=')\n",
        "df"
      ],
      "metadata": {
        "id": "DOjVohTxABdn"
      },
      "execution_count": null,
      "outputs": []
    },
    {
      "cell_type": "markdown",
      "source": [
        "###1.2) Exploración preliminar\n",
        "Los métodos de exploración son esenciales para obtener una comprensión inicial de los datos y su estructura.\n",
        "Algunos de los métodos más utilizados son:\n",
        "* `df.head(n)`: muestra las primeras n filas del dataframe (por defecto n = 5).\n",
        "* `df.tail(n)`: muestra las últimas n filas del dataframe.\n",
        "* `df.info()`: proporciona un resumen del dataframe.\n",
        "* `df.describe()`: genera estadísticas que veremos más adelante.\n",
        "* `df.shape`: devuelve una tupla que contiene el número de filas y columnas del dataframe.\n",
        "* `df.columns`: devuelve una lista de los nombre de las columnas del dataframe.\n",
        "* `df.index`: devuelve los índices del dataframe.\n",
        "* `df.dtypes`: devuelve los tipos de datos de cada columna.\n",
        "* `df.isnull()`: devuelve un dataframe booleano que indica si hay valores nulos en el dataframe. Tiene una función inversa: `df.notnull()`.\n",
        "* `df.value_counts()`: cuenta las ocurrencias de los valores de una serie.\n",
        "* `df.unique()`: devuelve los valores únicos de una columna.\n",
        "* `df.sample(n)`: devuelve una muestra aleatoria de n filas"
      ],
      "metadata": {
        "id": "bwyEJs8THW4X"
      }
    },
    {
      "cell_type": "code",
      "source": [
        "# Muestra de los 4 primeros registros\n",
        "df.head(4)"
      ],
      "metadata": {
        "id": "_0bgamCfHee5"
      },
      "execution_count": null,
      "outputs": []
    },
    {
      "cell_type": "code",
      "source": [
        "# Muestra de los últimos 6 registros\n",
        "df.tail(6)"
      ],
      "metadata": {
        "id": "JXIm_-EJp80i"
      },
      "execution_count": null,
      "outputs": []
    },
    {
      "cell_type": "code",
      "source": [
        "# Muestra los nombres de las columnas, cuántos valores hay en cada una, y qué tipo de dato contiene\n",
        "df.info()"
      ],
      "metadata": {
        "id": "YgFnORJnp_Dz"
      },
      "execution_count": null,
      "outputs": []
    },
    {
      "cell_type": "code",
      "source": [
        "# Muestra el resumen estadístico de las columnas. Conteo, promedio, mínimo y máximo...\n",
        "df.describe()"
      ],
      "metadata": {
        "id": "WlVUpaaGqBN8"
      },
      "execution_count": null,
      "outputs": []
    },
    {
      "cell_type": "code",
      "source": [
        "# Cantidad de registros y columnas\n",
        "df.shape"
      ],
      "metadata": {
        "id": "Uy9l4VUMqDdV"
      },
      "execution_count": null,
      "outputs": []
    },
    {
      "cell_type": "code",
      "source": [
        "# Nombres de las columnas\n",
        "df.columns"
      ],
      "metadata": {
        "id": "f9a0Ay2iqESu"
      },
      "execution_count": null,
      "outputs": []
    },
    {
      "cell_type": "code",
      "source": [
        "# Rango de los índices\n",
        "df.index"
      ],
      "metadata": {
        "id": "kMYUx3VZqHvo"
      },
      "execution_count": null,
      "outputs": []
    },
    {
      "cell_type": "code",
      "source": [
        "# Tipo de dato que hay en cada columna\n",
        "df.dtypes"
      ],
      "metadata": {
        "id": "cH4mxz1kqJbo"
      },
      "execution_count": null,
      "outputs": []
    },
    {
      "cell_type": "code",
      "source": [
        "# Un dataframe que muestra True donde falta el dato\n",
        "df.isnull()"
      ],
      "metadata": {
        "id": "x2CZTmAuqLHC"
      },
      "execution_count": null,
      "outputs": []
    },
    {
      "cell_type": "code",
      "source": [
        "# Muestra cuántas veces se repiten los valores en cada columna\n",
        "df['d1'].value_counts()"
      ],
      "metadata": {
        "id": "Z6Hm1FEKqMZq"
      },
      "execution_count": null,
      "outputs": []
    },
    {
      "cell_type": "code",
      "source": [
        "# Muestra los valores de una columna, sin repetidos\n",
        "df['d1'].unique()"
      ],
      "metadata": {
        "id": "IbpOi63CqNuL"
      },
      "execution_count": null,
      "outputs": []
    },
    {
      "cell_type": "code",
      "source": [
        "# Muestra aleatoria de 10 registros\n",
        "df.sample(10)"
      ],
      "metadata": {
        "id": "Hf0-LW7PqPN7"
      },
      "execution_count": null,
      "outputs": []
    },
    {
      "cell_type": "markdown",
      "source": [
        "❓ ¿Podrías decir si hay valores nulos en este dataframe?\n",
        "\n",
        "✨ En un primer análisis, ya podemos decir que hay valores nulos:\n",
        "tanto `shape` como `index` indican que hay 3018 registros, pero `info()` nos da la pauta de que la única columna que no tiene valores nulos es la de nombres."
      ],
      "metadata": {
        "id": "6sZmSKrPslH6"
      }
    },
    {
      "cell_type": "markdown",
      "source": [
        "###2) Ubicar datos duplicados y nulos"
      ],
      "metadata": {
        "id": "9me7CgPtHfLB"
      }
    },
    {
      "cell_type": "markdown",
      "source": [
        "#### Duplicados\n",
        "Para trabajar con datos duplicados, el método principal es `duplicated()` que devuelve un valor booleano por cada fila, indicando si es duplicado o no. Devuelve `True`, si una fila es duplicado de alguna anterior.\n",
        "* Con el parámetro `subset`, permite buscar duplicados en columnas específicas.\n",
        "* Combinada con otras funciones, podemos obtener más resultados, por ejemplo, `df.duplicated().sum()` cuenta  la cantidad de filas duplicadas\n"
      ],
      "metadata": {
        "id": "C5Kyy6S64-R_"
      }
    },
    {
      "cell_type": "code",
      "source": [
        "# Saber cuáles filas son duplicado\n",
        "df.duplicated()"
      ],
      "metadata": {
        "id": "Tt0AeU6ZnU87"
      },
      "execution_count": null,
      "outputs": []
    },
    {
      "cell_type": "code",
      "source": [
        "# Saber si las columnas d4, d5 y d6 tienen valos duplicados\n",
        "df.duplicated(subset=[\"d4\",\"d5\",\"d6\"])"
      ],
      "metadata": {
        "id": "u93-T-K79bt1"
      },
      "execution_count": null,
      "outputs": []
    },
    {
      "cell_type": "markdown",
      "source": [
        "#### Nulos\n",
        "El método isnull() nos ofrece un dataframe con valores booleanos. Esta función puede combinarse con otras, para obtener diferentes resultados:\n",
        "\n",
        "* Gracias al tipado dinámico de python, los valores booleanos se traducen automáticamente a 1 y 0, en caso de que alguna función lo requiera. Entonces, podemos utilizar la función sum() para obtener la cantidad de valores nulos en cada columna.\n",
        "* any() se puede utilizar para verificar si hay valores nulos en filas (axis = 1) o columnas."
      ],
      "metadata": {
        "id": "e3-5TciJ5BFw"
      }
    },
    {
      "cell_type": "code",
      "source": [
        "# Cantidad de valores nulos\n",
        "df.isnull().sum()"
      ],
      "metadata": {
        "id": "n8vmwgwq5Dr6"
      },
      "execution_count": null,
      "outputs": []
    },
    {
      "cell_type": "code",
      "source": [
        "# Nulos\n",
        "df.isnull().any() # en columnas\n",
        "df.isnull().any(axis = 1) # en filas (podremos saber qué registros tienen completos sus datos)"
      ],
      "metadata": {
        "id": "RftKgveJ6QYh"
      },
      "execution_count": null,
      "outputs": []
    },
    {
      "cell_type": "markdown",
      "source": [
        "💡 Podemos filtrar el dataframe para mostrar sólo las filas que contienen valores nulos en una columna específica.\n",
        "La sintaxis es la siguiente: `df[df[\"columna\"].isnull()]`"
      ],
      "metadata": {
        "id": "6-ESytit7JMY"
      }
    },
    {
      "cell_type": "code",
      "source": [
        "# Obtenemos los registros que tengan valores nulos en el día 7\n",
        "df[df[\"d7\"].isnull()]"
      ],
      "metadata": {
        "id": "rslVR7y_7DI9"
      },
      "execution_count": null,
      "outputs": []
    },
    {
      "cell_type": "markdown",
      "source": [
        "---\n",
        "<center>\n",
        "<img src=\"https://drive.google.com/uc?id=1Siw64v_zlLaIAqtT7uxj8l9POO9C9b7j\">\n",
        "</center>"
      ],
      "metadata": {
        "id": "iMo5vc4e_Jmh"
      }
    }
  ]
}