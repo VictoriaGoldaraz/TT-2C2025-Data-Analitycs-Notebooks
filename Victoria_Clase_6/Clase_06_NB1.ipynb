{
  "nbformat": 4,
  "nbformat_minor": 0,
  "metadata": {
    "colab": {
      "provenance": [],
      "toc_visible": true,
      "include_colab_link": true
    },
    "kernelspec": {
      "name": "python3",
      "display_name": "Python 3"
    },
    "language_info": {
      "name": "python"
    }
  },
  "cells": [
    {
      "cell_type": "markdown",
      "metadata": {
        "id": "view-in-github",
        "colab_type": "text"
      },
      "source": [
        "<a href=\"https://colab.research.google.com/github/VictoriaGoldaraz/TT-2C2025-Data-Analitycs-Notebooks/blob/main/Victoria_Clase_6/Clase_06_NB1.ipynb\" target=\"_parent\"><img src=\"https://colab.research.google.com/assets/colab-badge.svg\" alt=\"Open In Colab\"/></a>"
      ]
    },
    {
      "cell_type": "markdown",
      "source": [
        "# Filtros y selecciones en Pandas"
      ],
      "metadata": {
        "id": "5o4t65N9ZWMC"
      }
    },
    {
      "cell_type": "markdown",
      "source": [
        "## Importamos Dataset y hacemos un EDA"
      ],
      "metadata": {
        "id": "r4VaRejkcnpH"
      }
    },
    {
      "cell_type": "code",
      "execution_count": 2,
      "metadata": {
        "id": "0q2K4IG2Yczh"
      },
      "outputs": [],
      "source": [
        "# Importar la librería Pandas\n",
        "import pandas as pd"
      ]
    },
    {
      "cell_type": "code",
      "source": [
        "# Montar la unidad\n",
        "from google.colab import drive\n",
        "drive.mount('/content/drive')"
      ],
      "metadata": {
        "id": "gugfM7ArZ0ab",
        "outputId": "8de37930-b286-426d-9ecd-75d9c8c3bf9e",
        "colab": {
          "base_uri": "https://localhost:8080/"
        }
      },
      "execution_count": 3,
      "outputs": [
        {
          "output_type": "stream",
          "name": "stdout",
          "text": [
            "Mounted at /content/drive\n"
          ]
        }
      ]
    },
    {
      "cell_type": "code",
      "source": [
        "# Importamos el Dataset Netflix\n",
        "df = pd.read_csv(\"/content/drive/MyDrive/Datasets/netflix_titles.csv\")"
      ],
      "metadata": {
        "id": "OlDwQk1zZ7oD",
        "outputId": "ac008471-62c7-4be3-b0b0-9f5eaa1793df",
        "colab": {
          "base_uri": "https://localhost:8080/",
          "height": 158
        }
      },
      "execution_count": 1,
      "outputs": [
        {
          "output_type": "error",
          "ename": "NameError",
          "evalue": "name 'pd' is not defined",
          "traceback": [
            "\u001b[0;31m---------------------------------------------------------------------------\u001b[0m",
            "\u001b[0;31mNameError\u001b[0m                                 Traceback (most recent call last)",
            "\u001b[0;32m/tmp/ipython-input-1246522468.py\u001b[0m in \u001b[0;36m<cell line: 0>\u001b[0;34m()\u001b[0m\n\u001b[1;32m      1\u001b[0m \u001b[0;31m# Importamos el Dataset Netflix\u001b[0m\u001b[0;34m\u001b[0m\u001b[0;34m\u001b[0m\u001b[0m\n\u001b[0;32m----> 2\u001b[0;31m \u001b[0mdf\u001b[0m \u001b[0;34m=\u001b[0m \u001b[0mpd\u001b[0m\u001b[0;34m.\u001b[0m\u001b[0mread_csv\u001b[0m\u001b[0;34m(\u001b[0m\u001b[0;34m\"/content/drive/MyDrive/Datasets/netflix_titles.csv\"\u001b[0m\u001b[0;34m)\u001b[0m\u001b[0;34m\u001b[0m\u001b[0;34m\u001b[0m\u001b[0m\n\u001b[0m",
            "\u001b[0;31mNameError\u001b[0m: name 'pd' is not defined"
          ]
        }
      ]
    },
    {
      "cell_type": "code",
      "source": [
        "# Ver información general del Dataframe\n"
      ],
      "metadata": {
        "id": "6brxXWxUawHX"
      },
      "execution_count": null,
      "outputs": []
    },
    {
      "cell_type": "code",
      "source": [
        "# Ver los primeros registros\n"
      ],
      "metadata": {
        "id": "tPqsAebrbis1"
      },
      "execution_count": null,
      "outputs": []
    },
    {
      "cell_type": "code",
      "source": [
        "# Rápida exploración de\n"
      ],
      "metadata": {
        "id": "lDAprrp7a3C8"
      },
      "execution_count": null,
      "outputs": []
    },
    {
      "cell_type": "code",
      "source": [
        "# Rápida exploración de nulos\n"
      ],
      "metadata": {
        "id": "WZUBH7fAa7QI"
      },
      "execution_count": null,
      "outputs": []
    },
    {
      "cell_type": "markdown",
      "source": [
        "## Selección de columnas y filas"
      ],
      "metadata": {
        "id": "ee_MgHqsc1Y5"
      }
    },
    {
      "cell_type": "code",
      "source": [
        "# Visualizar columnas\n"
      ],
      "metadata": {
        "id": "Yd92Tksjassc"
      },
      "execution_count": null,
      "outputs": []
    },
    {
      "cell_type": "code",
      "source": [
        "# Observar o filtrar una columna\n"
      ],
      "metadata": {
        "id": "TBcBJb9pbNsn"
      },
      "execution_count": null,
      "outputs": []
    },
    {
      "cell_type": "code",
      "source": [
        "# Observar o filtrar más de una columna\n"
      ],
      "metadata": {
        "id": "zR0f2xZmbT1O"
      },
      "execution_count": null,
      "outputs": []
    },
    {
      "cell_type": "code",
      "source": [
        "# Agregamos ordenamiento\n"
      ],
      "metadata": {
        "id": "-wZijmcNbsn_"
      },
      "execution_count": null,
      "outputs": []
    },
    {
      "cell_type": "code",
      "source": [
        "# Seleccionar filas específicas\n"
      ],
      "metadata": {
        "id": "ppLuAZFVcCGa"
      },
      "execution_count": null,
      "outputs": []
    },
    {
      "cell_type": "code",
      "source": [
        "# Seleccionar un subset (filas y columnas especíicas)\n"
      ],
      "metadata": {
        "id": "_AuanIb-cHk0"
      },
      "execution_count": null,
      "outputs": []
    },
    {
      "cell_type": "markdown",
      "source": [
        "## Filtros"
      ],
      "metadata": {
        "id": "B_0gJyCic615"
      }
    },
    {
      "cell_type": "markdown",
      "source": [
        "### Filtros con condiciones lógicas"
      ],
      "metadata": {
        "id": "5GPwgdVyc9BH"
      }
    },
    {
      "cell_type": "code",
      "source": [
        "# Filtrar los registros que sean Movie\n"
      ],
      "metadata": {
        "id": "pyfsO_ARcTlJ"
      },
      "execution_count": null,
      "outputs": []
    },
    {
      "cell_type": "code",
      "source": [
        "# df.head(2)\n"
      ],
      "metadata": {
        "id": "pcnMRkEZdOu8"
      },
      "execution_count": null,
      "outputs": []
    },
    {
      "cell_type": "code",
      "source": [
        "# Los registros cuyo campo country es Argentina\n"
      ],
      "metadata": {
        "id": "XtWQVvbb7NAN"
      },
      "execution_count": null,
      "outputs": []
    },
    {
      "cell_type": "code",
      "source": [
        "# Los registros (movies/series) que cuyo año de \"release\" es anterior al 2020\n"
      ],
      "metadata": {
        "id": "0Yygu8897MFv"
      },
      "execution_count": null,
      "outputs": []
    },
    {
      "cell_type": "code",
      "source": [
        "# Verificar el dtype de la columna \"release_year\"\n"
      ],
      "metadata": {
        "id": "RE1HA9GXDRk_"
      },
      "execution_count": null,
      "outputs": []
    },
    {
      "cell_type": "code",
      "source": [
        "# Los registros (movies/series) que cuyo date_added es anterior al 2020\n"
      ],
      "metadata": {
        "id": "KQunqJqYDiXh"
      },
      "execution_count": null,
      "outputs": []
    },
    {
      "cell_type": "code",
      "source": [
        "# Verificar el dtype de la columna \"date_added\"\n"
      ],
      "metadata": {
        "id": "x0gsNLGvDmrh"
      },
      "execution_count": null,
      "outputs": []
    },
    {
      "cell_type": "code",
      "source": [
        "# Convertimos el dtype de object a datetime\n"
      ],
      "metadata": {
        "id": "8zhvRUWQ8yAA"
      },
      "execution_count": null,
      "outputs": []
    },
    {
      "cell_type": "markdown",
      "source": [
        "### Combinación de condiciones (&, |)"
      ],
      "metadata": {
        "id": "I9AENw1g7Gov"
      }
    },
    {
      "cell_type": "code",
      "source": [
        "# Filtrar por más de una condición df[(df[\"campo1\" == \"valor\"]) &| (\"campo2\" > valor)]\n"
      ],
      "metadata": {
        "id": "Sncxw7Pfumhv"
      },
      "execution_count": null,
      "outputs": []
    },
    {
      "cell_type": "code",
      "source": [
        "# Usamos contains() para texto\n"
      ],
      "metadata": {
        "id": "l0XKgierws_l"
      },
      "execution_count": null,
      "outputs": []
    },
    {
      "cell_type": "code",
      "source": [
        "# Jugar un poco con el dataframe con las películas Argentinas\n"
      ],
      "metadata": {
        "id": "3PjwGXGkxc-f"
      },
      "execution_count": null,
      "outputs": []
    },
    {
      "cell_type": "code",
      "source": [
        "# Usamos isin() para listas\n",
        "# Supongamos que queremos filtrar las películas de 3 países\n"
      ],
      "metadata": {
        "id": "2y4Fj8bYzuYR"
      },
      "execution_count": null,
      "outputs": []
    },
    {
      "cell_type": "code",
      "source": [
        "# Uso de query - más legible para condiciones complejas\n",
        "# Permite escribir una condicion como si fuera una consulta sql\n"
      ],
      "metadata": {
        "id": "8lq7vJNq3KAR"
      },
      "execution_count": null,
      "outputs": []
    }
  ]
}