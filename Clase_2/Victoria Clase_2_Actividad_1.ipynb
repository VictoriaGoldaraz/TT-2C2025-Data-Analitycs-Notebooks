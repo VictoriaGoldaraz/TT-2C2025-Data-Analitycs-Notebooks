{
  "nbformat": 4,
  "nbformat_minor": 0,
  "metadata": {
    "colab": {
      "provenance": []
    },
    "kernelspec": {
      "name": "python3",
      "display_name": "Python 3"
    },
    "language_info": {
      "name": "python"
    }
  },
  "cells": [
    {
      "cell_type": "markdown",
      "source": [
        "# Ejercicio 1. Lambda"
      ],
      "metadata": {
        "id": "KBEiKOiHFtcy"
      }
    },
    {
      "cell_type": "markdown",
      "source": [
        "Declara una función lambda llamada mayor que reciba dos números y devuelva el mayor de los dos.\n",
        "<BR>\n",
        "Prueba con los pares: (7, 3), (10, 15).\n",
        "<BR>\n",
        "Qué sucede si son iguales (20, 20)?"
      ],
      "metadata": {
        "id": "KkZLAEDmF-dY"
      }
    },
    {
      "cell_type": "code",
      "execution_count": 2,
      "metadata": {
        "id": "gRD0-JE3EXZ4",
        "colab": {
          "base_uri": "https://localhost:8080/"
        },
        "outputId": "a2631006-f6f0-4c4e-90fb-486574c8cb28"
      },
      "outputs": [
        {
          "output_type": "stream",
          "name": "stdout",
          "text": [
            "El mayor entre 7 y 3 es: 7\n",
            "El mayor entre 10 y 15 es: 15\n",
            "El mayor entre 20 y 20 es: 20\n"
          ]
        }
      ],
      "source": [
        "# Tu código aquí\n",
        "mayor = lambda a, b : a if a > b else b\n",
        "\n",
        "print(f\"El mayor entre 7 y 3 es: {mayor(7, 3)}\")\n",
        "print(f\"El mayor entre 10 y 15 es: {mayor(10, 15)}\")\n",
        "print(f\"El mayor entre 20 y 20 es: {mayor(20, 20)}\")"
      ]
    },
    {
      "cell_type": "markdown",
      "source": [
        "# Ejercicio 2. Lambda"
      ],
      "metadata": {
        "id": "jOQzCnNmGD4a"
      }
    },
    {
      "cell_type": "markdown",
      "source": [
        "Declara una función lambda llamada cuadrado que reciba un número y devuelva ese número al cuadrado.\n",
        "Prueba tu función con los valores 2, 5 y 10.\n",
        "<BR>\n",
        "*Hint* usar pow de math"
      ],
      "metadata": {
        "id": "CzdL_z0GHeva"
      }
    },
    {
      "cell_type": "code",
      "source": [
        "# Tu código aquí\n",
        "import math\n",
        "\n",
        "cuadrado = lambda x : pow(x, 2)\n",
        "\n",
        "print(f\"El cuadrado de 2 es: {cuadrado(2)}\")\n",
        "print(f\"El cuadrado de 5 es: {cuadrado(5)}\")\n",
        "print(f\"El cuadrado de 10 es: {cuadrado(10)}\")"
      ],
      "metadata": {
        "id": "kuc5kIGtHt2n",
        "colab": {
          "base_uri": "https://localhost:8080/"
        },
        "outputId": "945bc20b-ebc9-4571-c6be-eb4ee1c456c6"
      },
      "execution_count": 4,
      "outputs": [
        {
          "output_type": "stream",
          "name": "stdout",
          "text": [
            "El cuadrado de 2 es: 4\n",
            "El cuadrado de 5 es: 25\n",
            "El cuadrado de 10 es: 100\n"
          ]
        }
      ]
    },
    {
      "cell_type": "markdown",
      "source": [
        "# Ejercicio 3. List Comprehension"
      ],
      "metadata": {
        "id": "Zl6pnzu_JEjd"
      }
    },
    {
      "cell_type": "markdown",
      "source": [
        "Convertir montos y aplicar IVA\n",
        "<BR>\n",
        "Objetivo: pasar montos en USD a ARS"
      ],
      "metadata": {
        "id": "ToPga-kzKQ0E"
      }
    },
    {
      "cell_type": "code",
      "source": [
        "ventas = [\n",
        "    {\"id\": 1, \"monto_usd\": 10.0},\n",
        "    {\"id\": 2, \"monto_usd\": 25.5},\n",
        "    {\"id\": 3, \"monto_usd\": 13.2},\n",
        "]\n",
        "tipo_cambio = 1350\n",
        "\n",
        "\n",
        "# 👉 Generar lista de montos finales en ARS (redondeados a 2 decimales)\n",
        "montos_finales_ars = [round(v[\"monto_usd\"] * tipo_cambio, 2) for v in ventas]\n",
        "print(montos_finales_ars)  # Ej: [?, ?, ?]"
      ],
      "metadata": {
        "id": "KRigrrXrKXXJ",
        "colab": {
          "base_uri": "https://localhost:8080/"
        },
        "outputId": "a176e4fb-d123-4f8c-eb4b-2cbf3553b8c4"
      },
      "execution_count": 12,
      "outputs": [
        {
          "output_type": "stream",
          "name": "stdout",
          "text": [
            "[13500.0, 34425.0, 17820.0]\n"
          ]
        }
      ]
    },
    {
      "cell_type": "markdown",
      "source": [
        "Ejercicio 4. List Comprehension"
      ],
      "metadata": {
        "id": "d6YKawUYJsBU"
      }
    },
    {
      "cell_type": "markdown",
      "source": [
        "Crear una lista con el IMC de cada paciente (redondeado a 1 decimal)."
      ],
      "metadata": {
        "id": "Zk2FAh0gNEbU"
      }
    },
    {
      "cell_type": "code",
      "source": [
        "# Tu código aquí\n",
        "pacientes = [\n",
        "    {\"nombre\": \"Ana\", \"peso_kg\": 62, \"altura_m\": 1.65},\n",
        "    {\"nombre\": \"Luis\", \"peso_kg\": 80, \"altura_m\": 1.78},\n",
        "    {\"nombre\": \"Mia\", \"peso_kg\": 54, \"altura_m\": 1.60},\n",
        "]\n",
        "\n",
        "# IMC = peso_kg / (altura_m ** 2)\n",
        "imc = [ round(p[\"peso_kg\"] / (p[\"altura_m\"] ** 2), 1) for p in pacientes ]\n",
        "print(imc)"
      ],
      "metadata": {
        "id": "cSq_E63kNGwh",
        "colab": {
          "base_uri": "https://localhost:8080/"
        },
        "outputId": "967f7e8c-38e7-48fe-a025-68bd0d2f3232"
      },
      "execution_count": 14,
      "outputs": [
        {
          "output_type": "stream",
          "name": "stdout",
          "text": [
            "[22.8, 25.2, 21.1]\n"
          ]
        }
      ]
    },
    {
      "cell_type": "markdown",
      "source": [
        "Ejercicio 5. List Comprehension"
      ],
      "metadata": {
        "id": "kVXLCrb_NRDv"
      }
    },
    {
      "cell_type": "markdown",
      "source": [
        "Con condicional: filtrar y transformar temperaturas\n",
        "<BR>\n",
        "Objetivo: quedarte solo con temperaturas numéricas > 25°C y convertirlas a °F."
      ],
      "metadata": {
        "id": "ZVU-eXyHNT7v"
      }
    },
    {
      "cell_type": "code",
      "source": [
        "# Tu código aquí\n",
        "temperaturas = [23, 29, None, 31, 18, \"N/A\", 27]\n",
        "\n",
        "#  °F = °C * 9/5 + 32\n",
        "temps_f = [ (t * 9/5 + 32) for t in temperaturas if isinstance(t, (int, float)) and t > 25 ]\n",
        "print(temps_f)  # Ej: [84.2, 87.8, 80.6]"
      ],
      "metadata": {
        "id": "15ioRkjENYAJ",
        "colab": {
          "base_uri": "https://localhost:8080/"
        },
        "outputId": "816bb89e-66e4-4104-e65e-d967efec488b"
      },
      "execution_count": 16,
      "outputs": [
        {
          "output_type": "stream",
          "name": "stdout",
          "text": [
            "[84.2, 87.8, 80.6]\n"
          ]
        }
      ]
    },
    {
      "cell_type": "markdown",
      "source": [
        "# Ejercicio 6\n"
      ],
      "metadata": {
        "id": "RRj0-2IcNdsQ"
      }
    },
    {
      "cell_type": "markdown",
      "source": [
        "Con condicional: limpiar y convertir métricas\n",
        "<BR>\n",
        "Objetivo: de una lista de strings con números y “ruido” (N/A, 0, vacío),\n",
        "obtener solo enteros válidos > 0.\n",
        "<BR>\n",
        "*Hint* round, isinstance, o str.isdigit()"
      ],
      "metadata": {
        "id": "0B3_GK_QNiUZ"
      }
    },
    {
      "cell_type": "code",
      "source": [
        "clicks_str = [\"100\", \"N/A\", \"250\", \"0\", \"\", \"300\", \"—\", \"75\"]\n",
        "\n",
        "clicks_validos = [ int(s) for s in clicks_str if s.isdigit() and int(s) > 0 ]\n",
        "print(clicks_validos)  # Ej: [100, 250, 300, 75]"
      ],
      "metadata": {
        "id": "TeAIg3BHNoyl",
        "colab": {
          "base_uri": "https://localhost:8080/"
        },
        "outputId": "1f32ec42-882f-4fa1-f3b5-b72e724a412c"
      },
      "execution_count": 20,
      "outputs": [
        {
          "output_type": "stream",
          "name": "stdout",
          "text": [
            "[100, 250, 300, 75]\n"
          ]
        }
      ]
    }
  ]
}